{
  "nbformat": 4,
  "nbformat_minor": 0,
  "metadata": {
    "colab": {
      "provenance": [],
      "authorship_tag": "ABX9TyP3S4PF4ectg8q1R0ta4Hem",
      "include_colab_link": true
    },
    "kernelspec": {
      "name": "python3",
      "display_name": "Python 3"
    },
    "language_info": {
      "name": "python"
    }
  },
  "cells": [
    {
      "cell_type": "markdown",
      "metadata": {
        "id": "view-in-github",
        "colab_type": "text"
      },
      "source": [
        "<a href=\"https://colab.research.google.com/github/gabrielludke/perceptron/blob/main/Perceptron_Gabriel_Ludke_Neural_Networks_2024_1.ipynb\" target=\"_parent\"><img src=\"https://colab.research.google.com/assets/colab-badge.svg\" alt=\"Open In Colab\"/></a>"
      ]
    },
    {
      "cell_type": "markdown",
      "source": [
        "Perceptron\n",
        "Neural Networks - 2024/1\n",
        "Gabriel Giesen Ludke"
      ],
      "metadata": {
        "id": "3F9itf2hSIFT"
      }
    },
    {
      "cell_type": "code",
      "execution_count": null,
      "metadata": {
        "id": "I5B9uO16yZxW"
      },
      "outputs": [],
      "source": [
        "import numpy as np\n",
        "import pandas as pd\n",
        "import matplotlib.pyplot as plt"
      ]
    },
    {
      "cell_type": "code",
      "source": [
        "# Classe de perceptron feito para apenas um atributo de saida\n",
        "class perceptron:\n",
        "    def __init__(self):\n",
        "        self.w = np.array([])\n",
        "\n",
        "    def __funcaoPerceptron(self, pesos,entrada):\n",
        "        degrau = lambda x: 0 if x <= 0 else 1\n",
        "        if len(np.shape(entrada)) > 1:\n",
        "            return [degrau(np.matmul(pesos.T,entrada[i])) for i in range(np.size(entrada,0))]\n",
        "        else:\n",
        "            return degrau(np.matmul(pesos.T,entrada))\n",
        "\n",
        "    def treinar(self, entradaTreinamento, saidaTreinamento, nEpocas, taxaAprendizado):\n",
        "        # inicializa um array para armazenar os erros\n",
        "        erro = np.array([0 for i in range(0, len(saidaTreinamento))])\n",
        "\n",
        "        # Adicionando elemento extra para representar x0 em cada linha dos atributos de entrada\n",
        "        entradaTreinamento = np.array([[1] + entradaTreinamento[i] for i in range(0, np.size(entradaTreinamento,0))])\n",
        "\n",
        "        # Define valores iniciais aleatorios de w\n",
        "        self.w = np.array([np.random.rand() for i in range(0, np.size(entradaTreinamento,1))])\n",
        "\n",
        "        # roda no maximo o numero de epocas definido\n",
        "        for i in range(0, nEpocas):\n",
        "            # itera para cada combinacao de entrada\n",
        "            for j in range(0, np.size(entradaTreinamento,0)):\n",
        "                y = self.__funcaoPerceptron(self.w, entradaTreinamento[j])\n",
        "\n",
        "                # armazena valor de erro\n",
        "                erro[j] = saidaTreinamento[j] - y\n",
        "\n",
        "                if erro[j] != 0:\n",
        "                    # caso tenha erro, faz a correcao dos pesos\n",
        "                    self.w = self.w + taxaAprendizado*erro[j]*entradaTreinamento[j]\n",
        "\n",
        "            # Se os erros para todas as saidas forem nulos, finaliza o codigo\n",
        "            if(np.sum(np.absolute(erro)) == 0):\n",
        "                break\n",
        "\n",
        "    def classificar(self, entrada):\n",
        "        if len(np.shape(entrada)) > 1:\n",
        "            entrada = np.array([[1] + entrada[i] for i in range(0, np.size(entrada,0))])\n",
        "        else:\n",
        "            entrada = np.array([1] + entrada)\n",
        "        return self.__funcaoPerceptron(self.w, entrada)"
      ],
      "metadata": {
        "id": "oahQ225fupzN"
      },
      "execution_count": null,
      "outputs": []
    },
    {
      "cell_type": "code",
      "source": [
        "learningRate = 0.1\n",
        "nEpochs = 10"
      ],
      "metadata": {
        "id": "r-9qs1Mgxw0-"
      },
      "execution_count": null,
      "outputs": []
    },
    {
      "cell_type": "code",
      "source": [
        "# Função para plotar resultados e a linha de separação das classes\n",
        "\n",
        "def curvaPesos(w,x,y,title):\n",
        "    # Gera X1 e X2\n",
        "    x2 = np.array([sublista[1] for sublista in x])\n",
        "    x1 = np.array([sublista[0] for sublista in x])\n",
        "\n",
        "    # Gera arrays para imprimir a reta\n",
        "    xaux = np.linspace(-4,5,10)\n",
        "    yaux = (-w[0] - w[1]*xaux)/w[2] # baseado em w1x1 + w2x2 + w0 = 0\n",
        "\n",
        "    color = ['red' if a == 1 else 'blue' for a in y]\n",
        "\n",
        "    plt.plot(xaux, yaux, linestyle = '-', color = 'grey')\n",
        "    plt.scatter(x1,x2, marker = '.', color = color)\n",
        "\n",
        "    plt.xlabel('x1')\n",
        "    plt.ylabel('x2')\n",
        "    plt.xlim(-2,3)\n",
        "    plt.ylim(-2,3)\n",
        "    plt.title(title)\n",
        "    plt.show()"
      ],
      "metadata": {
        "id": "AnegNiib2jRx"
      },
      "execution_count": null,
      "outputs": []
    },
    {
      "cell_type": "markdown",
      "source": [
        "Análise para AND"
      ],
      "metadata": {
        "id": "btJOD8zaxS69"
      }
    },
    {
      "cell_type": "code",
      "source": [
        "# Define valores de treinamento.\n",
        "x_train = [[0,0],[0,1],[1,0],[1,1]]\n",
        "y_train = [0,0,0,1]\n",
        "\n",
        "# cria um objeto da classe e treina o modelo\n",
        "model = perceptron()\n",
        "model.treinar(entradaTreinamento = x_train, saidaTreinamento = y_train, nEpocas = nEpochs, taxaAprendizado = learningRate)\n",
        "\n",
        "print(\"w= \"+ str(model.w))\n",
        "\n",
        "for i in range(0, len(model.w)):\n",
        "    if i == 0:\n",
        "        print('bias = ' + str(-model.w[i]))\n",
        "    else:\n",
        "        print('w'+str(i)+\"= \" + str(model.w[i]))\n",
        "\n",
        "# imprime os resultados para as entradas aplicando os pesos encontrados\n",
        "resultado = model.classificar(x_train)\n",
        "\n",
        "print('resultado = ' + str(resultado))\n",
        "\n",
        "curvaPesos(model.w, x_train,y_train, 'AND')"
      ],
      "metadata": {
        "id": "QpmrpcYK00YZ",
        "colab": {
          "base_uri": "https://localhost:8080/",
          "height": 559
        },
        "outputId": "308c4f0e-99d8-4732-a919-5910e85fb0c5"
      },
      "execution_count": null,
      "outputs": [
        {
          "output_type": "stream",
          "name": "stdout",
          "text": [
            "w= [-0.3579676   0.33164092  0.31837942]\n",
            "bias = 0.35796760124401117\n",
            "w1= 0.3316409248556613\n",
            "w2= 0.3183794220568492\n",
            "resultado = [0, 0, 0, 1]\n"
          ]
        },
        {
          "output_type": "display_data",
          "data": {
            "text/plain": [
              "<Figure size 640x480 with 1 Axes>"
            ],
            "image/png": "[encoded data removed]"
          },
          "metadata": {}
        }
      ]
    },
    {
      "cell_type": "markdown",
      "source": [
        "Análise para OR"
      ],
      "metadata": {
        "id": "BSXEwjDGx0Wv"
      }
    },
    {
      "cell_type": "code",
      "source": [
        "# Define valores de treinamento.\n",
        "x_train = [[0,0],[0,1],[1,0],[1,1]]\n",
        "y_train = [0,1,1,1]\n",
        "\n",
        "# cria um objeto da classe e treina o modelo\n",
        "model = perceptron()\n",
        "model.treinar(entradaTreinamento = x_train, saidaTreinamento = y_train, nEpocas = nEpochs, taxaAprendizado = learningRate)\n",
        "\n",
        "print(\"w= \"+ str(model.w))\n",
        "\n",
        "for i in range(0, len(model.w)):\n",
        "    if i == 0:\n",
        "        print('bias = ' + str(-model.w[i]))\n",
        "    else:\n",
        "        print('w'+str(i)+\"= \" + str(model.w[i]))\n",
        "\n",
        "# imprime os resultados para as entradas aplicando os pesos encontrados\n",
        "resultado = model.classificar(x_train)\n",
        "\n",
        "print('resultado = ' + str(resultado))\n",
        "\n",
        "curvaPesos(model.w, x_train,y_train, 'OR')"
      ],
      "metadata": {
        "colab": {
          "base_uri": "https://localhost:8080/",
          "height": 559
        },
        "id": "JtqrpVP0xy-1",
        "outputId": "0c97d16d-4228-462f-cea1-8f0863f0742c"
      },
      "execution_count": null,
      "outputs": [
        {
          "output_type": "stream",
          "name": "stdout",
          "text": [
            "w= [-0.06009604  0.34285063  0.4373436 ]\n",
            "bias = 0.06009604026765014\n",
            "w1= 0.34285062992783233\n",
            "w2= 0.4373436032890653\n",
            "resultado = [0, 1, 1, 1]\n"
          ]
        },
        {
          "output_type": "display_data",
          "data": {
            "text/plain": [
              "<Figure size 640x480 with 1 Axes>"
            ],
            "image/png": "[encoded data removed]"
          },
          "metadata": {}
        }
      ]
    },
    {
      "cell_type": "markdown",
      "source": [
        "Análise para XOR"
      ],
      "metadata": {
        "id": "UzFRyWqex7Dl"
      }
    },
    {
      "cell_type": "code",
      "source": [
        "# Define valores de treinamento.\n",
        "x_train = [[0,0],[0,1],[1,0],[1,1]]\n",
        "y_train = [0,1,1,0]\n",
        "\n",
        "# cria um objeto da classe e treina o modelo\n",
        "model = perceptron()\n",
        "model.treinar(entradaTreinamento = x_train, saidaTreinamento = y_train, nEpocas = nEpochs, taxaAprendizado = learningRate)\n",
        "\n",
        "print(\"w= \"+ str(model.w))\n",
        "\n",
        "for i in range(0, len(model.w)):\n",
        "    if i == 0:\n",
        "        print('bias = ' + str(-model.w[i]))\n",
        "    else:\n",
        "        print('w'+str(i)+\"= \" + str(model.w[i]))\n",
        "\n",
        "# imprime os resultados para as entradas aplicando os pesos encontrados\n",
        "resultado = model.classificar(x_train)\n",
        "\n",
        "print('resultado = ' + str(resultado))\n",
        "\n",
        "curvaPesos(model.w, x_train,y_train, 'XOR')"
      ],
      "metadata": {
        "colab": {
          "base_uri": "https://localhost:8080/",
          "height": 559
        },
        "id": "r2mqao6cx99-",
        "outputId": "0f6f2c9a-2d0b-4a33-977b-3bafe8247bae"
      },
      "execution_count": null,
      "outputs": [
        {
          "output_type": "stream",
          "name": "stdout",
          "text": [
            "w= [-0.0722532  -0.03864375 -0.01023681]\n",
            "bias = 0.07225320346835548\n",
            "w1= -0.03864375156771213\n",
            "w2= -0.010236811982924393\n",
            "resultado = [0, 0, 0, 0]\n"
          ]
        },
        {
          "output_type": "display_data",
          "data": {
            "text/plain": [
              "<Figure size 640x480 with 1 Axes>"
            ],
            "image/png": "[encoded data removed]"
          },
          "metadata": {}
        }
      ]
    },
    {
      "cell_type": "markdown",
      "source": [
        "Análise para NOT"
      ],
      "metadata": {
        "id": "AZltPu6pyJF9"
      }
    },
    {
      "cell_type": "code",
      "source": [
        "# Define valores de treinamento. Para o NOT, como a dimensao de saida e a de entrada sao iguais, e a classe construida suporta apenas saidas unidimensionais, as entradas precisam ter 1 dimensao tambem\n",
        "x_train = [[0],[1]]\n",
        "y_train = [1,0]\n",
        "\n",
        "# cria um objeto da classe e treina o modelo\n",
        "model = perceptron()\n",
        "model.treinar(entradaTreinamento = x_train, saidaTreinamento = y_train, nEpocas = nEpochs, taxaAprendizado = learningRate)\n",
        "\n",
        "print(\"w= \"+ str(model.w))\n",
        "\n",
        "for i in range(0, len(model.w)):\n",
        "    if i == 0:\n",
        "        print('bias = ' + str(-model.w[i]))\n",
        "    else:\n",
        "        print('w'+str(i)+\"= \" + str(model.w[i]))\n",
        "\n",
        "# imprime os resultados para as entradas aplicando os pesos encontrados\n",
        "resultado = model.classificar(x_train)\n",
        "\n",
        "print('resultado = ' + str(resultado))"
      ],
      "metadata": {
        "colab": {
          "base_uri": "https://localhost:8080/"
        },
        "id": "PxVOmSXsyIWU",
        "outputId": "c3086d0d-3790-4c19-bd16-31631dd81d44"
      },
      "execution_count": null,
      "outputs": [
        {
          "output_type": "stream",
          "name": "stdout",
          "text": [
            "w= [ 0.01009108 -0.02813946]\n",
            "bias = -0.01009107802641715\n",
            "w1= -0.02813945672066051\n",
            "resultado = [1, 0]\n"
          ]
        }
      ]
    },
    {
      "cell_type": "code",
      "source": [],
      "metadata": {
        "id": "Wpm4nEoeyUyK"
      },
      "execution_count": null,
      "outputs": []
    }
  ]
}